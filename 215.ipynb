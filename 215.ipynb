{
 "cells": [
  {
   "cell_type": "markdown",
   "id": "add450e5-782d-4a1a-b789-a346dd77732f",
   "metadata": {},
   "source": [
    "## About this Part\n\nCongrats!\nYou have reached the last Part of this Sprint.\nAs the final assignment of this Sprint, you will analyse the Mental Health in the Tech Industry Dataset.\nYou will have to apply all that you have learned about SQL, Statistics, and Data Analysis to complete this task.\nOur expectation is that you'll use your own judgement how to perform the analysis and how to select the most important avenues of exploration.\nYou'll have to iteratively raise hypotheses and use your data analysis skills to get answers.\n\nP.S. we don't expect this project to be perfect - you will continue to improve your skills and there will be many projects for you to apply your newly gained skills in the future.\nFor now just use what you have learned and try your best!\n\n*Note:* [advice on building your portfolio](https://turingcollege.atlassian.net/wiki/spaces/DLG/pages/1002307695/Portfolio+Items)\n\n## Objectives for this Part\n\n- Practice working with SQLite datasets.\n- Practice performing EDA.\n- Practice visualizing data with Matplotlib & Seaborn.\n- Practice reading data, performing queries and filtering data using SQL and Pandas.\n\n## Requirements\n\n- Download the data from [Mental Health in the Tech Industry](https://www.kaggle.com/datasets/anth7310/mental-health-in-the-tech-industry).\n- Load the data using SQLite and Pandas.\n- Perform exploratory data analysis. This should include creating statistical summaries and charts, testing for anomalies, checking for correlations and other relations between variables, and other EDA elements.\n- Provide clear explanations in your notebook. Your explanations should inform the reader what you are trying to achieve, what results did you get, and what these results mean.\n- Provide suggestions about how your analysis can be improved.\n\n## Evaluation Criteria\n\n- Adherence to the requirements. How well did you meet the requirements?\n- Depth of your analysis. Did you just skim the surface or did you explored the dataset in depth?\n- Visualization quality. Did you use charts effectively to visualize patterns in the data? Are your visualizations properly labeled? Did you use colors effectively? Did you adhere to the principle of proportional ink?\n- Code quality. Was your code well-structured? Did you use the appropriate levels of abstraction? Did you remove commented out and unused code? Did you adhere to the PEP8?\n- Code performance. Did you use the suitable algorithms and data structures to solve the problems?\n\n## Project Review\n\nDuring your project review, you should present your project as if talking to a product manager and senior data analyst working in your team.\nYou will have to find the right balance between explaining the business side and the technical aspects of your work.\nYou can assume that both of your colleagues have a strong understanding of and are very interested in the business aspect of your project, so be sure to clearly explain what new insights you've found while analyzing the dataset and which directions look the most promising for further research.\nHowever, you should also spend time explaining the technical aspects of your work, especially the more complex or unconventional choices.\n\nDuring a project review, you may get asked questions that test your understanding of covered topics.\n\n- What are the main types and subtypes of data?\n- What are the main metrics of location? What advantages and disadvantages each of them have?\n- What is variability? What are the main metrics of variability? What advantages and disadvantages each of them have?\n- What is correlation? How do we use it to analyse data?\n- What is a contingency table?\n"
   ]
  },
  {
   "cell_type": "markdown",
   "id": "365f17f6-4c97-4245-a157-43b706842212",
   "metadata": {},
   "source": [
    "## General Project Review Guidelines\n\nFor an in-depth explanation about how project reviews work at Turing College, please read [this doc](https://turingcollege.atlassian.net/wiki/spaces/DLG/pages/537395951/Peer+expert+reviews+corrections).\n"
   ]
  }
 ],
 "metadata": {
  "kernelspec": {
   "display_name": "Python 3",
   "language": "python",
   "name": "python3"
  },
  "language_info": {
   "codemirror_mode": {
    "name": "ipython",
    "version": 3
   },
   "file_extension": ".py",
   "mimetype": "text/x-python",
   "name": "python",
   "nbconvert_exporter": "python",
   "pygments_lexer": "ipython3",
   "version": "3.9.5"
  }
 },
 "nbformat": 4,
 "nbformat_minor": 5
}
